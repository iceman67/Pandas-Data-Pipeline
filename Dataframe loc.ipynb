{
 "cells": [
  {
   "cell_type": "code",
   "execution_count": 1,
   "metadata": {},
   "outputs": [],
   "source": [
    "import pandas as pd"
   ]
  },
  {
   "cell_type": "markdown",
   "metadata": {},
   "source": [
    "#### 데이터프레임 생성"
   ]
  },
  {
   "cell_type": "code",
   "execution_count": 2,
   "metadata": {},
   "outputs": [],
   "source": [
    "d1 = {'Name': ['John', 'Jane', 'Mary'], 'ID': [1, 2, 3], 'Role': ['CEO', 'CTO', 'CFO']}"
   ]
  },
  {
   "cell_type": "code",
   "execution_count": 3,
   "metadata": {
    "scrolled": false
   },
   "outputs": [
    {
     "name": "stdout",
     "output_type": "stream",
     "text": [
      "DataFrame:\n",
      "    Name  ID Role\n",
      "0  John   1  CEO\n",
      "1  Jane   2  CTO\n",
      "2  Mary   3  CFO\n"
     ]
    }
   ],
   "source": [
    "df = pd.DataFrame(d1)\n",
    " \n",
    "print('DataFrame:\\n', df)"
   ]
  },
  {
   "cell_type": "markdown",
   "metadata": {},
   "source": [
    "#### 두번쨰 행(row) 얻기 "
   ]
  },
  {
   "cell_type": "code",
   "execution_count": 4,
   "metadata": {
    "scrolled": false
   },
   "outputs": [
    {
     "name": "stdout",
     "output_type": "stream",
     "text": [
      "<class 'pandas.core.series.Series'>\n",
      "Name    Jane\n",
      "ID         2\n",
      "Role     CTO\n",
      "Name: 1, dtype: object\n"
     ]
    }
   ],
   "source": [
    "row_1_series = df.loc[1]\n",
    "print(type(row_1_series))\n",
    "print(df.loc[1])"
   ]
  },
  {
   "cell_type": "markdown",
   "metadata": {},
   "source": [
    "#### 첫번쨰와 세번쨰 행 얻기"
   ]
  },
  {
   "cell_type": "code",
   "execution_count": 6,
   "metadata": {
    "scrolled": true
   },
   "outputs": [
    {
     "name": "stdout",
     "output_type": "stream",
     "text": [
      "<class 'pandas.core.frame.DataFrame'>\n",
      "   Name  ID Role\n",
      "0  John   1  CEO\n",
      "2  Mary   3  CFO\n"
     ]
    }
   ],
   "source": [
    "row_0_2_df = df.loc[[0, 2]]\n",
    "print(type(row_0_2_df))\n",
    "print(row_0_2_df)"
   ]
  },
  {
   "cell_type": "markdown",
   "metadata": {},
   "source": [
    "#### 단일값 얻기"
   ]
  },
  {
   "cell_type": "code",
   "execution_count": 7,
   "metadata": {},
   "outputs": [
    {
     "name": "stdout",
     "output_type": "stream",
     "text": [
      "CTO\n"
     ]
    }
   ],
   "source": [
    "jane_role = df.loc[1, 'Role']\n",
    "print(jane_role)  # CTO"
   ]
  },
  {
   "cell_type": "markdown",
   "metadata": {},
   "source": [
    "#### 슬라이싱하기"
   ]
  },
  {
   "cell_type": "code",
   "execution_count": 8,
   "metadata": {},
   "outputs": [
    {
     "name": "stdout",
     "output_type": "stream",
     "text": [
      "0    CEO\n",
      "1    CTO\n",
      "Name: Role, dtype: object\n"
     ]
    }
   ],
   "source": [
    "roles = df.loc[0:1, 'Role']\n",
    "print(roles)"
   ]
  },
  {
   "cell_type": "markdown",
   "metadata": {},
   "source": [
    "#### 조건에 따른 행얻기"
   ]
  },
  {
   "cell_type": "code",
   "execution_count": 9,
   "metadata": {},
   "outputs": [
    {
     "name": "stdout",
     "output_type": "stream",
     "text": [
      "   Name  ID Role\n",
      "1  Jane   2  CTO\n",
      "2  Mary   3  CFO\n"
     ]
    }
   ],
   "source": [
    "data = df.loc[df['ID'] > 1]\n",
    "print(data)"
   ]
  },
  {
   "cell_type": "markdown",
   "metadata": {},
   "source": [
    "#### 단일값 설정"
   ]
  },
  {
   "cell_type": "code",
   "execution_count": 10,
   "metadata": {},
   "outputs": [
    {
     "name": "stdout",
     "output_type": "stream",
     "text": [
      "Original DataFrame:\n",
      "    Name  ID Role\n",
      "A  John   1  CEO\n",
      "B  Jane   2  CTO\n",
      "C  Mary   3  CFO\n",
      "Updated DataFrame:\n",
      "    Name  ID    Role\n",
      "A  John   1     CEO\n",
      "B  Jane   2  Editor\n",
      "C  Mary   3     CFO\n"
     ]
    }
   ],
   "source": [
    "import pandas as pd\n",
    " \n",
    "d1 = {'Name': ['John', 'Jane', 'Mary'], 'ID': [1, 2, 3], 'Role': ['CEO', 'CTO', 'CFO']}\n",
    " \n",
    "df = pd.DataFrame(d1, index=['A', 'B', 'C'])\n",
    "print('Original DataFrame:\\n', df)\n",
    " \n",
    "# set a single value\n",
    "df.loc['B', 'Role'] = 'Editor'\n",
    "print('Updated DataFrame:\\n', df)"
   ]
  },
  {
   "cell_type": "code",
   "execution_count": null,
   "metadata": {},
   "outputs": [],
   "source": []
  }
 ],
 "metadata": {
  "kernelspec": {
   "display_name": "Python 3",
   "language": "python",
   "name": "python3"
  },
  "language_info": {
   "codemirror_mode": {
    "name": "ipython",
    "version": 3
   },
   "file_extension": ".py",
   "mimetype": "text/x-python",
   "name": "python",
   "nbconvert_exporter": "python",
   "pygments_lexer": "ipython3",
   "version": "3.7.4"
  }
 },
 "nbformat": 4,
 "nbformat_minor": 2
}
