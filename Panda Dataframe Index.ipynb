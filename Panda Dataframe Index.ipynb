{
 "cells": [
  {
   "cell_type": "markdown",
   "metadata": {},
   "source": [
    "#### Pandas DataFrame index"
   ]
  },
  {
   "cell_type": "code",
   "execution_count": 2,
   "metadata": {},
   "outputs": [
    {
     "name": "stdout",
     "output_type": "stream",
     "text": [
      "DataFrame:\n",
      "    Name  ID Role\n",
      "A  John   1  CEO\n",
      "B  Jane   2  CTO\n",
      "C  Mary   3  CFO\n"
     ]
    }
   ],
   "source": [
    "import pandas as pd\n",
    " \n",
    "d1 = {'Name': ['John', 'Jane', 'Mary'], 'ID': [1, 2, 3], 'Role': ['CEO', 'CTO', 'CFO']}\n",
    " \n",
    "df = pd.DataFrame(d1, index=['A', 'B', 'C'])\n",
    " \n",
    "print('DataFrame:\\n', df)"
   ]
  },
  {
   "cell_type": "markdown",
   "metadata": {},
   "source": [
    "#### Getting Label Name of a Single Row"
   ]
  },
  {
   "cell_type": "code",
   "execution_count": 3,
   "metadata": {},
   "outputs": [
    {
     "name": "stdout",
     "output_type": "stream",
     "text": [
      "<class 'str'>\n",
      "B\n"
     ]
    }
   ],
   "source": [
    "row_1_label = df.index[1]\n",
    "print(type(row_1_label))  # <class 'str'>\n",
    "print(row_1_label)  # B"
   ]
  },
  {
   "cell_type": "markdown",
   "metadata": {},
   "source": [
    "#### Getting Labels of Multiple Rows"
   ]
  },
  {
   "cell_type": "code",
   "execution_count": 6,
   "metadata": {},
   "outputs": [
    {
     "name": "stdout",
     "output_type": "stream",
     "text": [
      "<class 'pandas.core.indexes.base.Index'>\n",
      "Index(['B', 'C'], dtype='object')\n"
     ]
    }
   ],
   "source": [
    "rows_labels = df.index[[1, 2]]\n",
    "print(type(rows_labels))  # <class 'pandas.core.indexes.base.Index'>\n",
    "print(rows_labels)  # Index(['B', 'C'], dtype='object')"
   ]
  },
  {
   "cell_type": "markdown",
   "metadata": {},
   "source": [
    "#### Slicing with DataFrame index"
   ]
  },
  {
   "cell_type": "code",
   "execution_count": 9,
   "metadata": {},
   "outputs": [
    {
     "name": "stdout",
     "output_type": "stream",
     "text": [
      "<class 'pandas.core.indexes.base.Index'>\n",
      "Index(['B', 'C'], dtype='object')\n"
     ]
    }
   ],
   "source": [
    "rows_labels = df.index[1:3]\n",
    "print(type(rows_labels))  # <class 'pandas.core.indexes.base.Index'>\n",
    "print(rows_labels)  # Index(['B', 'C'], dtype='object')"
   ]
  },
  {
   "cell_type": "code",
   "execution_count": null,
   "metadata": {},
   "outputs": [],
   "source": []
  },
  {
   "cell_type": "code",
   "execution_count": null,
   "metadata": {},
   "outputs": [],
   "source": []
  }
 ],
 "metadata": {
  "kernelspec": {
   "display_name": "Python 3",
   "language": "python",
   "name": "python3"
  },
  "language_info": {
   "codemirror_mode": {
    "name": "ipython",
    "version": 3
   },
   "file_extension": ".py",
   "mimetype": "text/x-python",
   "name": "python",
   "nbconvert_exporter": "python",
   "pygments_lexer": "ipython3",
   "version": "3.7.4"
  }
 },
 "nbformat": 4,
 "nbformat_minor": 2
}
